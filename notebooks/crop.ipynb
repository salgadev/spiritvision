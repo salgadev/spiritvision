{
 "cells": [
  {
   "cell_type": "code",
   "execution_count": 3,
   "id": "437346e6",
   "metadata": {},
   "outputs": [],
   "source": [
    "import os\n",
    "import cv2"
   ]
  },
  {
   "cell_type": "code",
   "execution_count": 4,
   "id": "f70319a6",
   "metadata": {},
   "outputs": [
    {
     "data": {
      "text/plain": [
       "['espadin_20210415142150.jpg',\n",
       " 'espadin_20210415142200.jpg',\n",
       " 'espadin_20210415142234.jpg',\n",
       " 'espadin_20210415142253.jpg',\n",
       " 'espadin_20210415142409.jpg',\n",
       " 'espadin_20210415142416.jpg',\n",
       " 'espadin_20210415142514.jpg',\n",
       " 'espadin_20210415142522.jpg',\n",
       " 'espadin_20210415142637.jpg',\n",
       " 'espadin_20210415142742.jpg',\n",
       " 'espadin_20210415142823.jpg',\n",
       " 'espadin_20210415143003.jpg',\n",
       " 'espadin_20210415143008.jpg',\n",
       " 'espadin_20210415150710.jpg',\n",
       " 'espadin_20210415150716.jpg',\n",
       " 'espadin_20210415150750.jpg']"
      ]
     },
     "execution_count": 4,
     "metadata": {},
     "output_type": "execute_result"
    }
   ],
   "source": [
    "dataset_path = \"..\\data\\espadin\"\n",
    "example_files = os.listdir(dataset_path)\n",
    "example_files"
   ]
  },
  {
   "cell_type": "code",
   "execution_count": 5,
   "id": "4f70e270",
   "metadata": {},
   "outputs": [
    {
     "data": {
      "text/plain": [
       "'..\\\\data\\\\espadin\\\\IMG_20210415_142150.jpg'"
      ]
     },
     "execution_count": 5,
     "metadata": {},
     "output_type": "execute_result"
    }
   ],
   "source": [
    "path = os.path.join(dataset_path, \"IMG_20210415_142150.jpg\")\n",
    "path"
   ]
  },
  {
   "cell_type": "code",
   "execution_count": 8,
   "id": "e294678a",
   "metadata": {},
   "outputs": [
    {
     "data": {
      "text/plain": [
       "'espadin'"
      ]
     },
     "execution_count": 8,
     "metadata": {},
     "output_type": "execute_result"
    }
   ],
   "source": [
    "# folder = \n",
    "path.split(\"\\\\\")[-2]"
   ]
  },
  {
   "cell_type": "code",
   "execution_count": 28,
   "id": "37761d1c",
   "metadata": {},
   "outputs": [],
   "source": [
    "img = cv2.imread(path)"
   ]
  },
  {
   "cell_type": "code",
   "execution_count": 38,
   "id": "0a3beac8",
   "metadata": {},
   "outputs": [],
   "source": [
    "grayscale = cv2.cvtColor(img, cv2.COLOR_BGR2GRAY)\n",
    "ret, thresholded = cv2.threshold(grayscale, 0, 255, cv2.THRESH_OTSU)"
   ]
  },
  {
   "cell_type": "code",
   "execution_count": 40,
   "id": "733c435c",
   "metadata": {},
   "outputs": [
    {
     "name": "stdout",
     "output_type": "stream",
     "text": [
      "(259, 55, 2128, 2041)\n"
     ]
    },
    {
     "data": {
      "text/plain": [
       "True"
      ]
     },
     "execution_count": 40,
     "metadata": {},
     "output_type": "execute_result"
    }
   ],
   "source": [
    "cv2.imwrite(\"otsu.png\", thresholded)\n",
    "bbox = cv2.boundingRect(thresholded)\n",
    "x, y, w, h = bbox\n",
    "print(bbox)\n",
    "foreground = img[y:y+h, x:x+w]\n",
    "cv2.imwrite(\"foreground.png\", foreground)"
   ]
  }
 ],
 "metadata": {
  "kernelspec": {
   "display_name": "Python 3",
   "language": "python",
   "name": "python3"
  },
  "language_info": {
   "codemirror_mode": {
    "name": "ipython",
    "version": 3
   },
   "file_extension": ".py",
   "mimetype": "text/x-python",
   "name": "python",
   "nbconvert_exporter": "python",
   "pygments_lexer": "ipython3",
   "version": "3.8.8"
  }
 },
 "nbformat": 4,
 "nbformat_minor": 5
}
