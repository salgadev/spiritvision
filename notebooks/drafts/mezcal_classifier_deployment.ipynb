{
 "cells": [
  {
   "cell_type": "markdown",
   "id": "VET0pOyDBhi9",
   "metadata": {
    "id": "VET0pOyDBhi9"
   },
   "source": [
    "# Mezcal drops classifier - Deployment\n",
    "fastai image classifier of custom mezcal drop images\n",
    " \n",
    "Inspired by  \n",
    "\n",
    "*   [PyTorch Beginner Tutorial - Training an Image Classification Model and putting it online!\n",
    "](https://www.youtube.com/watch?v=k1GIEkzQ8qc)\n",
    "*   [Building projects with fastai - From Model Training to Deployment\n",
    "](https://www.youtube.com/watch?v=pNaCrhxmN1w)\n",
    "\n",
    "THIS VERSION IS MOSTLY BASED OFF OF THIS:\n",
    "* [Image Classification with a Custom Dataset](https://walkwithfastai.com/Custom)\n",
    "\n",
    "### Attempt #1 - 2022-02-27"
   ]
  },
  {
   "cell_type": "code",
   "execution_count": 4,
   "id": "30715909",
   "metadata": {},
   "outputs": [],
   "source": [
    "#!pip install -Uqq fastbook"
   ]
  },
  {
   "cell_type": "code",
   "execution_count": 8,
   "id": "64370203",
   "metadata": {
    "colab": {
     "base_uri": "https://localhost:8080/",
     "height": 374
    },
    "id": "64370203",
    "outputId": "a576f388-b470-46f5-ffac-b3e23acb22fe"
   },
   "outputs": [],
   "source": [
    "import fastbook\n",
    "import fastai\n",
    "from fastai.vision.widgets import *\n",
    "from fastbook import *\n",
    "import zipfile\n",
    "import os\n",
    "import datetime\n",
    "from fastai.vision.all import *"
   ]
  },
  {
   "cell_type": "code",
   "execution_count": 11,
   "id": "086a400e",
   "metadata": {},
   "outputs": [],
   "source": [
    "# imports for testing\n",
    "import matplotlib.pyplot as plt\n",
    "import matplotlib.image as mpimg"
   ]
  },
  {
   "cell_type": "code",
   "execution_count": 3,
   "id": "be84e5a2",
   "metadata": {
    "colab": {
     "base_uri": "https://localhost:8080/"
    },
    "id": "be84e5a2",
    "outputId": "902e769d-c3fc-4e78-9d57-780918d4a317"
   },
   "outputs": [
    {
     "data": {
      "text/plain": [
       "Path('export.pkl')"
      ]
     },
     "execution_count": 3,
     "metadata": {},
     "output_type": "execute_result"
    }
   ],
   "source": [
    "modelPath = get_files('.',\".pkl\")[0]\n",
    "modelPath"
   ]
  },
  {
   "cell_type": "code",
   "execution_count": 5,
   "id": "7ebb23f7",
   "metadata": {},
   "outputs": [
    {
     "data": {
      "text/plain": [
       "['cuishe', 'espadin', 'pechuga', 'tepextate', 'tobala']"
      ]
     },
     "execution_count": 5,
     "metadata": {},
     "output_type": "execute_result"
    }
   ],
   "source": [
    "learn_inf = load_learner(modelPath)\n",
    "learn_inf.dls.vocab"
   ]
  },
  {
   "cell_type": "code",
   "execution_count": 24,
   "id": "c8ed1e07",
   "metadata": {},
   "outputs": [
    {
     "data": {
      "text/html": [],
      "text/plain": [
       "<IPython.core.display.HTML object>"
      ]
     },
     "metadata": {},
     "output_type": "display_data"
    },
    {
     "name": "stdout",
     "output_type": "stream",
     "text": [
      "file: test\\1.jpg, prediction: ('espadin', TensorBase(1), TensorBase([1.9770e-06, 9.7211e-01, 2.7680e-02, 1.4751e-04, 6.2141e-05]))\n"
     ]
    },
    {
     "data": {
      "text/html": [],
      "text/plain": [
       "<IPython.core.display.HTML object>"
      ]
     },
     "metadata": {},
     "output_type": "display_data"
    },
    {
     "name": "stdout",
     "output_type": "stream",
     "text": [
      "file: test\\2.jpg, prediction: ('cuishe', TensorBase(0), TensorBase([0.9696, 0.0135, 0.0123, 0.0011, 0.0034]))\n"
     ]
    },
    {
     "data": {
      "text/html": [],
      "text/plain": [
       "<IPython.core.display.HTML object>"
      ]
     },
     "metadata": {},
     "output_type": "display_data"
    },
    {
     "name": "stdout",
     "output_type": "stream",
     "text": [
      "file: test\\3.jpg, prediction: ('cuishe', TensorBase(0), TensorBase([0.9545, 0.0064, 0.0340, 0.0038, 0.0013]))\n"
     ]
    },
    {
     "data": {
      "text/html": [],
      "text/plain": [
       "<IPython.core.display.HTML object>"
      ]
     },
     "metadata": {},
     "output_type": "display_data"
    },
    {
     "name": "stdout",
     "output_type": "stream",
     "text": [
      "file: test\\4.jpg, prediction: ('cuishe', TensorBase(0), TensorBase([0.7869, 0.0716, 0.1319, 0.0024, 0.0071]))\n"
     ]
    },
    {
     "data": {
      "text/html": [],
      "text/plain": [
       "<IPython.core.display.HTML object>"
      ]
     },
     "metadata": {},
     "output_type": "display_data"
    },
    {
     "name": "stdout",
     "output_type": "stream",
     "text": [
      "file: test\\5.jpg, prediction: ('pechuga', TensorBase(2), TensorBase([0.0313, 0.3862, 0.5706, 0.0094, 0.0026]))\n"
     ]
    },
    {
     "data": {
      "text/html": [],
      "text/plain": [
       "<IPython.core.display.HTML object>"
      ]
     },
     "metadata": {},
     "output_type": "display_data"
    },
    {
     "name": "stdout",
     "output_type": "stream",
     "text": [
      "file: test\\6.jpg, prediction: ('pechuga', TensorBase(2), TensorBase([0.3744, 0.1530, 0.4515, 0.0119, 0.0092]))\n"
     ]
    },
    {
     "data": {
      "text/html": [],
      "text/plain": [
       "<IPython.core.display.HTML object>"
      ]
     },
     "metadata": {},
     "output_type": "display_data"
    },
    {
     "name": "stdout",
     "output_type": "stream",
     "text": [
      "file: test\\7.jpg, prediction: ('cuishe', TensorBase(0), TensorBase([0.7992, 0.0272, 0.0033, 0.0416, 0.1287]))\n"
     ]
    }
   ],
   "source": [
    "for path in get_image_files(\"test\"):\n",
    "    prediction = learn_inf.predict(mpimg.imread(path))\n",
    "    print(f\"file: {path}, prediction: {prediction}\") "
   ]
  },
  {
   "cell_type": "markdown",
   "id": "c0387a23",
   "metadata": {},
   "source": [
    "Doing really bad with images never seen before, may need to train again"
   ]
  },
  {
   "cell_type": "code",
   "execution_count": null,
   "id": "815e9f2d",
   "metadata": {},
   "outputs": [],
   "source": []
  }
 ],
 "metadata": {
  "accelerator": "GPU",
  "colab": {
   "collapsed_sections": [],
   "name": "mezcal_drops_classifier_walkwithfastai.ipynb",
   "provenance": []
  },
  "kernelspec": {
   "display_name": "Python 3",
   "language": "python",
   "name": "python3"
  },
  "language_info": {
   "codemirror_mode": {
    "name": "ipython",
    "version": 3
   },
   "file_extension": ".py",
   "mimetype": "text/x-python",
   "name": "python",
   "nbconvert_exporter": "python",
   "pygments_lexer": "ipython3",
   "version": "3.8.8"
  }
 },
 "nbformat": 4,
 "nbformat_minor": 5
}
