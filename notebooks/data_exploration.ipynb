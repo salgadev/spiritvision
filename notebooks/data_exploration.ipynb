{
 "cells": [
  {
   "cell_type": "code",
   "execution_count": 12,
   "id": "3a2ae2da-8ddd-48b2-a1da-b89a5ca1996d",
   "metadata": {},
   "outputs": [],
   "source": [
    "import sys\n",
    "import os\n",
    "import matplotlib.pyplot as plt\n",
    "from sklearn.metrics import ConfusionMatrixDisplay\n",
    "\n",
    "sys.path.insert(0, os.path.abspath('..'))\n",
    "sys.path.insert(0, os.path.abspath('..\\\\scripts'))\n",
    "\n",
    "from fastai.vision.widgets import *\n",
    "from helpers import *"
   ]
  },
  {
   "cell_type": "code",
   "execution_count": 13,
   "id": "10137b63-2b07-4d59-bee2-507154bf0169",
   "metadata": {},
   "outputs": [],
   "source": [
    "import cv2\n",
    "import numpy as np\n",
    "\n",
    "data_path = get_processed_data_dir()\n",
    "labels = os.listdir(data_path)"
   ]
  },
  {
   "cell_type": "code",
   "execution_count": 14,
   "id": "d5e7a2bd-1ac2-418f-baae-e4f970a5e3c6",
   "metadata": {},
   "outputs": [],
   "source": [
    "images = []\n",
    "\n",
    "for label in labels:\n",
    "    label_path = os.path.join(data_path, label)    \n",
    "    \n",
    "    for fname in os.listdir(label_path):\n",
    "        image_path = os.path.join(label_path, fname)              \n",
    "        # print(image_path)\n",
    "        img = cv2.imread(image_path)        \n",
    "        images.append(img)             "
   ]
  },
  {
   "cell_type": "code",
   "execution_count": 16,
   "id": "af3d86e7-0ef3-4023-880d-37a431bb8f80",
   "metadata": {},
   "outputs": [
    {
     "name": "stderr",
     "output_type": "stream",
     "text": [
      "C:\\Users\\socd0\\AppData\\Local\\Temp\\ipykernel_11708\\2580951120.py:1: VisibleDeprecationWarning: Creating an ndarray from ragged nested sequences (which is a list-or-tuple of lists-or-tuples-or ndarrays with different lengths or shapes) is deprecated. If you meant to do this, you must specify 'dtype=object' when creating the ndarray.\n",
      "  images = np.array(images)\n"
     ]
    }
   ],
   "source": [
    "images = np.array(images)"
   ]
  },
  {
   "cell_type": "code",
   "execution_count": null,
   "id": "084bfa6e-405e-4dac-bb10-20fb5edbfaec",
   "metadata": {},
   "outputs": [],
   "source": []
  },
  {
   "cell_type": "code",
   "execution_count": 11,
   "id": "9537b2ca-bcb9-46ce-beb5-1701f5561188",
   "metadata": {},
   "outputs": [
    {
     "ename": "AttributeError",
     "evalue": "'list' object has no attribute 'reshape'",
     "output_type": "error",
     "traceback": [
      "\u001b[1;31m---------------------------------------------------------------------------\u001b[0m",
      "\u001b[1;31mAttributeError\u001b[0m                            Traceback (most recent call last)",
      "Input \u001b[1;32mIn [11]\u001b[0m, in \u001b[0;36m<cell line: 2>\u001b[1;34m()\u001b[0m\n\u001b[0;32m      1\u001b[0m \u001b[38;5;66;03m# Flatten image data\u001b[39;00m\n\u001b[1;32m----> 2\u001b[0m images_flat \u001b[38;5;241m=\u001b[39m \u001b[43mimages\u001b[49m\u001b[38;5;241;43m.\u001b[39;49m\u001b[43mreshape\u001b[49m(images\u001b[38;5;241m.\u001b[39mshape[\u001b[38;5;241m0\u001b[39m], \u001b[38;5;241m-\u001b[39m\u001b[38;5;241m1\u001b[39m)\n\u001b[0;32m      4\u001b[0m \u001b[38;5;66;03m# Standardize the data\u001b[39;00m\n\u001b[0;32m      5\u001b[0m scaler \u001b[38;5;241m=\u001b[39m StandardScaler()\n",
      "\u001b[1;31mAttributeError\u001b[0m: 'list' object has no attribute 'reshape'"
     ]
    }
   ],
   "source": [
    "# Flatten image data\n",
    "images_flat = images.reshape(images.shape[0], -1)\n",
    "\n",
    "# Standardize the data\n",
    "scaler = StandardScaler()\n",
    "images_scaled = scaler.fit_transform(images_flat)\n",
    "\n",
    "# Perform PCA\n",
    "pca = PCA(n_components=100) # keep 100 components\n",
    "images_pca = pca.fit_transform(images_scaled)"
   ]
  },
  {
   "cell_type": "code",
   "execution_count": null,
   "id": "0cde3157-6725-4d70-a12b-27faf699eb52",
   "metadata": {},
   "outputs": [],
   "source": []
  }
 ],
 "metadata": {
  "kernelspec": {
   "display_name": "Python 3 (ipykernel)",
   "language": "python",
   "name": "python3"
  },
  "language_info": {
   "codemirror_mode": {
    "name": "ipython",
    "version": 3
   },
   "file_extension": ".py",
   "mimetype": "text/x-python",
   "name": "python",
   "nbconvert_exporter": "python",
   "pygments_lexer": "ipython3",
   "version": "3.8.10"
  }
 },
 "nbformat": 4,
 "nbformat_minor": 5
}
